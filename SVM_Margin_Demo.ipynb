{
  "nbformat": 4,
  "nbformat_minor": 0,
  "metadata": {
    "colab": {
      "name": "SVM-Margin-Demo.ipynb",
      "provenance": [],
      "collapsed_sections": [],
      "include_colab_link": true
    },
    "kernelspec": {
      "name": "python3",
      "display_name": "Python 3"
    }
  },
  "cells": [
    {
      "cell_type": "markdown",
      "metadata": {
        "id": "view-in-github",
        "colab_type": "text"
      },
      "source": [
        "<a href=\"https://colab.research.google.com/github/movadelsol/helloworld/blob/master/SVM_Margin_Demo.ipynb\" target=\"_parent\"><img src=\"https://colab.research.google.com/assets/colab-badge.svg\" alt=\"Open In Colab\"/></a>"
      ]
    },
    {
      "cell_type": "code",
      "metadata": {
        "id": "lGxcgWppvpax",
        "colab_type": "code",
        "outputId": "85cac7b8-255f-4e79-883e-94daa849988d",
        "colab": {
          "base_uri": "https://localhost:8080/",
          "height": 343
        }
      },
      "source": [
        "from sklearn import datasets\n",
        "from sklearn import svm\n",
        "from sklearn.decomposition import PCA\n",
        "\n",
        "import numpy as np\n",
        "import matplotlib.pyplot as plt\n",
        "import sys\n",
        "\n",
        "!pip install playground-data\n",
        "# @sa https://pypi.org/project/playground-data/0.7.1/\n",
        "import plygdata as pg\n",
        "theDataset=pg.DatasetType.ClassifyCircleData\n",
        "datalist=pg.generate_data(theDataset)\n",
        "\"\"\"\n",
        " |  ClassifyCircleData = 'circle' \n",
        " |  ClassifySpiralData = 'spiral'\n",
        " |  ClassifyTwoGaussData = 'gauss'\n",
        " |  ClassifyXORData = 'xor'\n",
        " |  RegressGaussian = 'reg-gauss'\n",
        " |  RegressPlane = 'reg-plane'\n",
        " \"\"\""
      ],
      "execution_count": 19,
      "outputs": [
        {
          "output_type": "stream",
          "text": [
            "Collecting playground-data\n",
            "  Downloading https://files.pythonhosted.org/packages/fb/27/9f1497a14c529759421438b25816ec90cf2b34cf6c0146cf29aa4ceee27a/playground-data-1.1.0.tar.gz\n",
            "Requirement already satisfied: numpy in /usr/local/lib/python3.6/dist-packages (from playground-data) (1.16.5)\n",
            "Requirement already satisfied: matplotlib in /usr/local/lib/python3.6/dist-packages (from playground-data) (3.0.3)\n",
            "Requirement already satisfied: cycler>=0.10 in /usr/local/lib/python3.6/dist-packages (from matplotlib->playground-data) (0.10.0)\n",
            "Requirement already satisfied: python-dateutil>=2.1 in /usr/local/lib/python3.6/dist-packages (from matplotlib->playground-data) (2.5.3)\n",
            "Requirement already satisfied: pyparsing!=2.0.4,!=2.1.2,!=2.1.6,>=2.0.1 in /usr/local/lib/python3.6/dist-packages (from matplotlib->playground-data) (2.4.2)\n",
            "Requirement already satisfied: kiwisolver>=1.0.1 in /usr/local/lib/python3.6/dist-packages (from matplotlib->playground-data) (1.1.0)\n",
            "Requirement already satisfied: six in /usr/local/lib/python3.6/dist-packages (from cycler>=0.10->matplotlib->playground-data) (1.12.0)\n",
            "Requirement already satisfied: setuptools in /usr/local/lib/python3.6/dist-packages (from kiwisolver>=1.0.1->matplotlib->playground-data) (41.2.0)\n",
            "Building wheels for collected packages: playground-data\n",
            "  Building wheel for playground-data (setup.py) ... \u001b[?25l\u001b[?25hdone\n",
            "  Created wheel for playground-data: filename=playground_data-1.1.0-py2.py3-none-any.whl size=20827 sha256=b973a2bddd6fc4772c58b3bc4324ad2a0883a8e6cfda8bdfc172f53c50434dd2\n",
            "  Stored in directory: /root/.cache/pip/wheels/82/07/a9/68dc3f1c2cca3ce57b735854edda3620fb089f3ac64b9acfd4\n",
            "Successfully built playground-data\n",
            "Installing collected packages: playground-data\n",
            "Successfully installed playground-data-1.1.0\n"
          ],
          "name": "stdout"
        },
        {
          "output_type": "execute_result",
          "data": {
            "text/plain": [
              "\"\\n |  ClassifyCircleData = 'circle' \\n |  ClassifySpiralData = 'spiral'\\n |  ClassifyTwoGaussData = 'gauss'\\n |  ClassifyXORData = 'xor'\\n |  RegressGaussian = 'reg-gauss'\\n |  RegressPlane = 'reg-plane'\\n \""
            ]
          },
          "metadata": {
            "tags": []
          },
          "execution_count": 19
        }
      ]
    },
    {
      "cell_type": "code",
      "metadata": {
        "id": "v8ckHBhGuGa-",
        "colab_type": "code",
        "colab": {}
      },
      "source": [
        "#help(pg.DatasetType)"
      ],
      "execution_count": 0,
      "outputs": []
    },
    {
      "cell_type": "code",
      "metadata": {
        "id": "ZFNx-95IMUl-",
        "colab_type": "code",
        "colab": {}
      },
      "source": [
        "!pip install mlxtend"
      ],
      "execution_count": 0,
      "outputs": []
    },
    {
      "cell_type": "code",
      "metadata": {
        "id": "aFRWmqN6vxhQ",
        "colab_type": "code",
        "outputId": "594116ae-0ac0-49c9-b11c-7e9df1838d1f",
        "colab": {
          "base_uri": "https://localhost:8080/",
          "height": 34
        }
      },
      "source": [
        "X_train,y_train,X_val,y_val=pg.split_data(datalist,training_size=0.9)\n",
        "#X_train.shape\n",
        "#print(\"y_train:{}\".format(np.unique(y_train)))\n",
        "y_train=y_train.ravel()\n",
        "#y_train=column_or_1d(y_train,warn=True)\n",
        "print(\"y_train shape:{}\".format(y_train.shape))"
      ],
      "execution_count": 20,
      "outputs": [
        {
          "output_type": "stream",
          "text": [
            "y_train shape:(450,)\n"
          ],
          "name": "stdout"
        }
      ]
    },
    {
      "cell_type": "code",
      "metadata": {
        "id": "6LH71pgCwesI",
        "colab_type": "code",
        "outputId": "e14bc21e-f866-47d9-baaa-0fb1012027c8",
        "colab": {
          "base_uri": "https://localhost:8080/",
          "height": 85
        }
      },
      "source": [
        "svc = svm.SVC(C=1000, kernel=\"rbf\", gamma=0.01, probability=True)\n",
        "#svc = svm.SVC(C=1000, kernel=\"poly\",degree=2)\n",
        "#svc = svm.SVC(C=1000, kernel=\"linear\")\n",
        "svc.fit(X_train, y_train)"
      ],
      "execution_count": 21,
      "outputs": [
        {
          "output_type": "execute_result",
          "data": {
            "text/plain": [
              "SVC(C=1000, cache_size=200, class_weight=None, coef0=0.0,\n",
              "    decision_function_shape='ovr', degree=3, gamma=0.01, kernel='rbf',\n",
              "    max_iter=-1, probability=True, random_state=None, shrinking=True, tol=0.001,\n",
              "    verbose=False)"
            ]
          },
          "metadata": {
            "tags": []
          },
          "execution_count": 21
        }
      ]
    },
    {
      "cell_type": "code",
      "metadata": {
        "id": "ByMcsq1sL2Ne",
        "colab_type": "code",
        "outputId": "44eb148f-b138-4b29-f2a2-26561a8bbc09",
        "colab": {
          "base_uri": "https://localhost:8080/",
          "height": 286
        }
      },
      "source": [
        "# !pip install mlxtend\n",
        "from mlxtend.plotting import plot_decision_regions\n",
        "plot_decision_regions(X=X_train,y=y_train.astype(np.integer),clf=svc)"
      ],
      "execution_count": 23,
      "outputs": [
        {
          "output_type": "execute_result",
          "data": {
            "text/plain": [
              "<matplotlib.axes._subplots.AxesSubplot at 0x7f38c8f99908>"
            ]
          },
          "metadata": {
            "tags": []
          },
          "execution_count": 23
        },
        {
          "output_type": "display_data",
          "data": {
            "image/png": "[encoded data removed]",
            "text/plain": [
              "<Figure size 432x288 with 1 Axes>"
            ]
          },
          "metadata": {
            "tags": []
          }
        }
      ]
    },
    {
      "cell_type": "code",
      "metadata": {
        "id": "nUNdP7EXzGLR",
        "colab_type": "code",
        "outputId": "d7027a39-8a50-42d2-ff1e-eb2b73498b91",
        "colab": {
          "base_uri": "https://localhost:8080/",
          "height": 461
        }
      },
      "source": [
        "\n",
        "#\n",
        "fig, ax = pg.datahelper.plot_sample(theDataset)\n",
        "# Decision Boundary(決定境界)をプロットする\n",
        "wide=5.0\n",
        "px = np.arange(-wide,wide, 0.1)\n",
        "py = np.arange(-wide,wide, 0.1)\n",
        "PX, PY = np.meshgrid(px, py) # PX,PYはそれぞれ 100x100 行列\n",
        "XX = np.c_[PX.ravel(), PY.ravel()] # XXは 10000x2行列\n",
        "Z = svc.decision_function(XX)\n",
        "#Z = svc.predict_proba(XX)[:,1] # SVMモデルで予測。y=1の確率は結果の2列目に入っているので取り出す。Zは10000次元ベクトル\n",
        "Z = Z.reshape(PX.shape) # Zを100x100行列に変換\n",
        "print(\"Z(max,min):({},{})\".format(Z.max(),Z.min()))\n",
        "plt.contour(PX, PY, Z, levels=[0.0], linewidths=2.0) # Z=0.5の等高線が決定境界となる\n",
        "#plt.contour(PX, PY, Z, levels=[0.8], linewidths=2.0) # Z=0.5の等高線が決定境界となる\n",
        "\n",
        "for x1 in svc.support_vectors_:\n",
        "  plt.scatter(x1[0],x1[1],c='g',marker='^',edgecolors='face')\n",
        "\n",
        "\n",
        "plt.xlim(-wide,wide)\n",
        "plt.ylim(-wide,wide)\n",
        "plt.show()"
      ],
      "execution_count": 0,
      "outputs": [
        {
          "output_type": "stream",
          "text": [
            "Z(max,min):(3.165186687579965,-9.90713428062622)\n"
          ],
          "name": "stdout"
        },
        {
          "output_type": "display_data",
          "data": {
            "image/png": "[encoded data removed]",
            "text/plain": [
              "<Figure size 500x500 with 1 Axes>"
            ]
          },
          "metadata": {
            "tags": []
          }
        }
      ]
    },
    {
      "cell_type": "code",
      "metadata": {
        "id": "-YicybAyscgO",
        "colab_type": "code",
        "colab": {}
      },
      "source": [
        "#help(plt.scatter)"
      ],
      "execution_count": 0,
      "outputs": []
    },
    {
      "cell_type": "code",
      "metadata": {
        "id": "gWk4a3TDyfKB",
        "colab_type": "code",
        "outputId": "3339c812-5230-4434-b2b9-708ad46edcb3",
        "colab": {
          "base_uri": "https://localhost:8080/",
          "height": 301
        }
      },
      "source": [
        "#svc.fit(X_train, y_train)\n",
        "print(\"Nb.support:\",svc.n_support_)\n",
        "print(\"Nb target:\",X_train.shape)\n",
        "svec=svc.decision_function(svc.support_vectors_)\n",
        "\n",
        "print(\"support vectors Min:{},Max:{}\".format(svec.min(),svec.max()))\n",
        "print(svec)\n",
        "print(\"Intercept:{}\".format(svc.intercept_))\n",
        "print(\"Size of\")\n",
        "print(\"Dual coefficient:{}\".format(svc.dual_coef_.shape))\n",
        "print(svc.dual_coef_)\n",
        "\n",
        "alpha = svc.dual_coef_ / svec\n",
        "\n",
        "print(\"ALPHA:sum:{}\".format(np.sum(alpha)))\n",
        "print(\"sqrt(alpha):{}\".format(np.sqrt(np.sum(alpha))))\n",
        "\n",
        "print(\"support vector :{}\".format(svc.support_vectors_.shape))\n",
        "omega = svc.dual_coef_ @ svc.support_vectors_\n",
        "print(\"omega:{}\".format(omega))\n",
        "print(\"Norm omega:{}\".format(np.linalg.norm(omega,2)))\n",
        "#fig, ax = pg.datahelper.plot_sample(theDataset)\n",
        "#for x1 in svc.support_vectors_:\n",
        "#  print(\"V({}),Y:{}\".format(x1,svc.decision_function([x1])))\n",
        "#  plt.scatter(x1[0],x1[1],c='r')\n",
        "#plt.show()\n",
        "sum_coef=svc.dual_coef_.sum()\n",
        "print(\"coef sum:{},shape:{},norm:{}\".format(sum_coef,svc.dual_coef_.shape,np.linalg.norm(svec,2)))"
      ],
      "execution_count": 0,
      "outputs": [
        {
          "output_type": "stream",
          "text": [
            "Nb.support: [5 3]\n",
            "Nb target: (450, 2)\n",
            "support vectors Min:-1.0005363743301778,Max:1.000459511117274\n",
            "[-1.00053637 -1.00008751 -0.99957689 -0.99962017 -1.00044521  1.00045951\n",
            "  1.00033103  0.99946279]\n",
            "Intercept:[-16.03242361]\n",
            "Size of\n",
            "Dual coefficient:(1, 8)\n",
            "[[-35.05075971 -81.63760792 -56.95045444 -91.85380903 -74.58594029\n",
            "   31.85729541 181.39422773 126.82704825]]\n",
            "ALPHA:sum:680.150535615596\n",
            "sqrt(alpha):26.079695849752465\n",
            "support vector :(8, 2)\n",
            "omega:[[19.69003679 -8.31269443]]\n",
            "Norm omega:21.372843457024352\n",
            "coef sum:2.2737367544323206e-13,shape:(1, 8),norm:2.8286110393988886\n"
          ],
          "name": "stdout"
        }
      ]
    },
    {
      "cell_type": "code",
      "metadata": {
        "id": "jUrKZ_rMgfcU",
        "colab_type": "code",
        "outputId": "22a584b0-e44a-4cb0-98f9-9e5f251d9a83",
        "colab": {
          "base_uri": "https://localhost:8080/",
          "height": 592
        }
      },
      "source": [
        "x_hist = svc.decision_function(X_train)\n",
        "plt.hist(x_hist,bins=64)"
      ],
      "execution_count": 41,
      "outputs": [
        {
          "output_type": "execute_result",
          "data": {
            "text/plain": [
              "(array([ 9.,  8.,  9.,  8.,  5.,  8.,  8.,  7.,  4.,  8.,  4.,  7.,  6.,\n",
              "        10., 10.,  9.,  8.,  7.,  5.,  7., 10., 11.,  4.,  6.,  9.,  9.,\n",
              "        10.,  6.,  9.,  0.,  0.,  0.,  0.,  0.,  0.,  0.,  0.,  0.,  0.,\n",
              "         0.,  0.,  0.,  0.,  0.,  0.,  0.,  3.,  8.,  4.,  6.,  8.,  5.,\n",
              "         5., 14., 10.,  8., 19., 13., 11., 15., 16., 15., 11., 58.]),\n",
              " array([-4.33900929, -4.22320217, -4.10739505, -3.99158794, -3.87578082,\n",
              "        -3.7599737 , -3.64416659, -3.52835947, -3.41255235, -3.29674524,\n",
              "        -3.18093812, -3.065131  , -2.94932389, -2.83351677, -2.71770965,\n",
              "        -2.60190254, -2.48609542, -2.3702883 , -2.25448118, -2.13867407,\n",
              "        -2.02286695, -1.90705983, -1.79125272, -1.6754456 , -1.55963848,\n",
              "        -1.44383137, -1.32802425, -1.21221713, -1.09641002, -0.9806029 ,\n",
              "        -0.86479578, -0.74898867, -0.63318155, -0.51737443, -0.40156732,\n",
              "        -0.2857602 , -0.16995308, -0.05414597,  0.06166115,  0.17746827,\n",
              "         0.29327538,  0.4090825 ,  0.52488962,  0.64069673,  0.75650385,\n",
              "         0.87231097,  0.98811809,  1.1039252 ,  1.21973232,  1.33553944,\n",
              "         1.45134655,  1.56715367,  1.68296079,  1.7987679 ,  1.91457502,\n",
              "         2.03038214,  2.14618925,  2.26199637,  2.37780349,  2.4936106 ,\n",
              "         2.60941772,  2.72522484,  2.84103195,  2.95683907,  3.07264619]),\n",
              " <a list of 64 Patch objects>)"
            ]
          },
          "metadata": {
            "tags": []
          },
          "execution_count": 41
        },
        {
          "output_type": "display_data",
          "data": {
            "image/png": "[encoded data removed]",
            "text/plain": [
              "<Figure size 432x288 with 1 Axes>"
            ]
          },
          "metadata": {
            "tags": []
          }
        }
      ]
    },
    {
      "cell_type": "code",
      "metadata": {
        "id": "xvrHgtE2v-Ov",
        "colab_type": "code",
        "colab": {}
      },
      "source": [
        "negative_x = x_hist[x_hist<0]\n",
        "positive_x = x_hist[x_hist>=0]"
      ],
      "execution_count": 0,
      "outputs": []
    },
    {
      "cell_type": "code",
      "metadata": {
        "id": "w4tCYt2_momC",
        "colab_type": "code",
        "colab": {}
      },
      "source": [
        "myu=negative_x.mean()\n",
        "std=negative_x.std()"
      ],
      "execution_count": 0,
      "outputs": []
    },
    {
      "cell_type": "code",
      "metadata": {
        "id": "WfYuVqIGpooX",
        "colab_type": "code",
        "colab": {}
      },
      "source": [
        "pmyu=positive_x.mean()\n",
        "pstd=positive_x.std()"
      ],
      "execution_count": 0,
      "outputs": []
    },
    {
      "cell_type": "code",
      "metadata": {
        "id": "7ETqpIbZhwVJ",
        "colab_type": "code",
        "colab": {}
      },
      "source": [
        "from scipy.stats import norm\n",
        "import numpy as np"
      ],
      "execution_count": 0,
      "outputs": []
    },
    {
      "cell_type": "code",
      "metadata": {
        "id": "Ovb9m_HPieSC",
        "colab_type": "code",
        "colab": {
          "base_uri": "https://localhost:8080/",
          "height": 269
        },
        "outputId": "d536f8b7-42ed-414d-c262-6c1262234bd0"
      },
      "source": [
        "import math\n",
        "import matplotlib.pyplot as plt\n",
        "\n",
        "X = np.arange(0,3.4,0.1)\n",
        "Y = norm.cdf(X,0,1)\n",
        "\n",
        "plt.plot(X,Y,color='r')\n",
        "plt.show()"
      ],
      "execution_count": 15,
      "outputs": [
        {
          "output_type": "display_data",
          "data": {
            "image/png": "[encoded data removed]",
            "text/plain": [
              "<Figure size 432x288 with 1 Axes>"
            ]
          },
          "metadata": {
            "tags": []
          }
        }
      ]
    },
    {
      "cell_type": "code",
      "metadata": {
        "id": "6xe_oo4ki-TH",
        "colab_type": "code",
        "colab": {
          "base_uri": "https://localhost:8080/",
          "height": 34
        },
        "outputId": "41333270-2028-47b6-8ac1-68fe83c52bae"
      },
      "source": [
        "1-norm.sf(0,pmyu,pstd)"
      ],
      "execution_count": 40,
      "outputs": [
        {
          "output_type": "execute_result",
          "data": {
            "text/plain": [
              "2.2326909308478804e-05"
            ]
          },
          "metadata": {
            "tags": []
          },
          "execution_count": 40
        }
      ]
    },
    {
      "cell_type": "code",
      "metadata": {
        "id": "GQZD9lTdoHcu",
        "colab_type": "code",
        "colab": {
          "base_uri": "https://localhost:8080/",
          "height": 34
        },
        "outputId": "4816cc2b-6928-4119-ab9e-4d16533e5fa0"
      },
      "source": [
        "norm.sf(0,myu,std)"
      ],
      "execution_count": 35,
      "outputs": [
        {
          "output_type": "execute_result",
          "data": {
            "text/plain": [
              "0.003993065271581632"
            ]
          },
          "metadata": {
            "tags": []
          },
          "execution_count": 35
        }
      ]
    },
    {
      "cell_type": "code",
      "metadata": {
        "id": "eMhLKlFunVXi",
        "colab_type": "code",
        "colab": {
          "base_uri": "https://localhost:8080/",
          "height": 34
        },
        "outputId": "b7102775-637c-47bf-f5e1-ffcbd2e9c115"
      },
      "source": [
        "myu,std"
      ],
      "execution_count": 33,
      "outputs": [
        {
          "output_type": "execute_result",
          "data": {
            "text/plain": [
              "(-2.634199992366147, 0.9930425854297708)"
            ]
          },
          "metadata": {
            "tags": []
          },
          "execution_count": 33
        }
      ]
    },
    {
      "cell_type": "code",
      "metadata": {
        "id": "diOLEzCzh1o_",
        "colab_type": "code",
        "colab": {
          "base_uri": "https://localhost:8080/",
          "height": 1000
        },
        "outputId": "656fc43e-e676-4667-8cda-b4d5c52fcbd5"
      },
      "source": [
        "help(norm)"
      ],
      "execution_count": 2,
      "outputs": [
        {
          "output_type": "stream",
          "text": [
            "Help on norm_gen in module scipy.stats._continuous_distns object:\n",
            "\n",
            "class norm_gen(scipy.stats._distn_infrastructure.rv_continuous)\n",
            " |  A normal continuous random variable.\n",
            " |  \n",
            " |  The location (``loc``) keyword specifies the mean.\n",
            " |  The scale (``scale``) keyword specifies the standard deviation.\n",
            " |  \n",
            " |  %(before_notes)s\n",
            " |  \n",
            " |  Notes\n",
            " |  -----\n",
            " |  The probability density function for `norm` is:\n",
            " |  \n",
            " |  .. math::\n",
            " |  \n",
            " |      f(x) = \\frac{\\exp(-x^2/2)}{\\sqrt{2\\pi}}\n",
            " |  \n",
            " |  for a real number :math:`x`.\n",
            " |  \n",
            " |  %(after_notes)s\n",
            " |  \n",
            " |  %(example)s\n",
            " |  \n",
            " |  Method resolution order:\n",
            " |      norm_gen\n",
            " |      scipy.stats._distn_infrastructure.rv_continuous\n",
            " |      scipy.stats._distn_infrastructure.rv_generic\n",
            " |      builtins.object\n",
            " |  \n",
            " |  Methods defined here:\n",
            " |  \n",
            " |  fit(self, data, **kwds)\n",
            " |      Return MLEs for shape (if applicable), location, and scale\n",
            " |      parameters from data.\n",
            " |      \n",
            " |      MLE stands for Maximum Likelihood Estimate.  Starting estimates for\n",
            " |      the fit are given by input arguments; for any arguments not provided\n",
            " |      with starting estimates, ``self._fitstart(data)`` is called to generate\n",
            " |      such.\n",
            " |      \n",
            " |      One can hold some parameters fixed to specific values by passing in\n",
            " |      keyword arguments ``f0``, ``f1``, ..., ``fn`` (for shape parameters)\n",
            " |      and ``floc`` and ``fscale`` (for location and scale parameters,\n",
            " |      respectively).\n",
            " |      \n",
            " |      Parameters\n",
            " |      ----------\n",
            " |      data : array_like\n",
            " |          Data to use in calculating the MLEs.\n",
            " |      args : floats, optional\n",
            " |          Starting value(s) for any shape-characterizing arguments (those not\n",
            " |          provided will be determined by a call to ``_fitstart(data)``).\n",
            " |          No default value.\n",
            " |      kwds : floats, optional\n",
            " |          Starting values for the location and scale parameters; no default.\n",
            " |          Special keyword arguments are recognized as holding certain\n",
            " |          parameters fixed:\n",
            " |      \n",
            " |          - f0...fn : hold respective shape parameters fixed.\n",
            " |            Alternatively, shape parameters to fix can be specified by name.\n",
            " |            For example, if ``self.shapes == \"a, b\"``, ``fa``and ``fix_a``\n",
            " |            are equivalent to ``f0``, and ``fb`` and ``fix_b`` are\n",
            " |            equivalent to ``f1``.\n",
            " |      \n",
            " |          - floc : hold location parameter fixed to specified value.\n",
            " |      \n",
            " |          - fscale : hold scale parameter fixed to specified value.\n",
            " |      \n",
            " |          - optimizer : The optimizer to use.  The optimizer must take ``func``,\n",
            " |            and starting position as the first two arguments,\n",
            " |            plus ``args`` (for extra arguments to pass to the\n",
            " |            function to be optimized) and ``disp=0`` to suppress\n",
            " |            output as keyword arguments.\n",
            " |      \n",
            " |      Returns\n",
            " |      -------\n",
            " |      mle_tuple : tuple of floats\n",
            " |          MLEs for any shape parameters (if applicable), followed by those\n",
            " |          for location and scale. For most random variables, shape statistics\n",
            " |          will be returned, but there are exceptions (e.g. ``norm``).\n",
            " |      \n",
            " |      Notes\n",
            " |      -----\n",
            " |      This function uses explicit formulas for the maximum likelihood\n",
            " |      estimation of the normal distribution parameters, so the\n",
            " |      `optimizer` argument is ignored.\n",
            " |      \n",
            " |      Examples\n",
            " |      --------\n",
            " |      \n",
            " |      Generate some data to fit: draw random variates from the `beta`\n",
            " |      distribution\n",
            " |      \n",
            " |      >>> from scipy.stats import beta\n",
            " |      >>> a, b = 1., 2.\n",
            " |      >>> x = beta.rvs(a, b, size=1000)\n",
            " |      \n",
            " |      Now we can fit all four parameters (``a``, ``b``, ``loc`` and ``scale``):\n",
            " |      \n",
            " |      >>> a1, b1, loc1, scale1 = beta.fit(x)\n",
            " |      \n",
            " |      We can also use some prior knowledge about the dataset: let's keep\n",
            " |      ``loc`` and ``scale`` fixed:\n",
            " |      \n",
            " |      >>> a1, b1, loc1, scale1 = beta.fit(x, floc=0, fscale=1)\n",
            " |      >>> loc1, scale1\n",
            " |      (0, 1)\n",
            " |      \n",
            " |      We can also keep shape parameters fixed by using ``f``-keywords. To\n",
            " |      keep the zero-th shape parameter ``a`` equal 1, use ``f0=1`` or,\n",
            " |      equivalently, ``fa=1``:\n",
            " |      \n",
            " |      >>> a1, b1, loc1, scale1 = beta.fit(x, fa=1, floc=0, fscale=1)\n",
            " |      >>> a1\n",
            " |      1\n",
            " |      \n",
            " |      Not all distributions return estimates for the shape parameters.\n",
            " |      ``norm`` for example just returns estimates for location and scale:\n",
            " |      \n",
            " |      >>> from scipy.stats import norm\n",
            " |      >>> x = norm.rvs(a, b, size=1000, random_state=123)\n",
            " |      >>> loc1, scale1 = norm.fit(x)\n",
            " |      >>> loc1, scale1\n",
            " |      (0.92087172783841631, 2.0015750750324668)\n",
            " |  \n",
            " |  ----------------------------------------------------------------------\n",
            " |  Methods inherited from scipy.stats._distn_infrastructure.rv_continuous:\n",
            " |  \n",
            " |  __init__(self, momtype=1, a=None, b=None, xtol=1e-14, badvalue=None, name=None, longname=None, shapes=None, extradoc=None, seed=None)\n",
            " |      Initialize self.  See help(type(self)) for accurate signature.\n",
            " |  \n",
            " |  cdf(self, x, *args, **kwds)\n",
            " |      Cumulative distribution function of the given RV.\n",
            " |      \n",
            " |      Parameters\n",
            " |      ----------\n",
            " |      x : array_like\n",
            " |          quantiles\n",
            " |      arg1, arg2, arg3,... : array_like\n",
            " |          The shape parameter(s) for the distribution (see docstring of the\n",
            " |          instance object for more information)\n",
            " |      loc : array_like, optional\n",
            " |          location parameter (default=0)\n",
            " |      scale : array_like, optional\n",
            " |          scale parameter (default=1)\n",
            " |      \n",
            " |      Returns\n",
            " |      -------\n",
            " |      cdf : ndarray\n",
            " |          Cumulative distribution function evaluated at `x`\n",
            " |  \n",
            " |  expect(self, func=None, args=(), loc=0, scale=1, lb=None, ub=None, conditional=False, **kwds)\n",
            " |      Calculate expected value of a function with respect to the\n",
            " |      distribution by numerical integration.\n",
            " |      \n",
            " |      The expected value of a function ``f(x)`` with respect to a\n",
            " |      distribution ``dist`` is defined as::\n",
            " |      \n",
            " |                  ub\n",
            " |          E[f(x)] = Integral(f(x) * dist.pdf(x)),\n",
            " |                  lb\n",
            " |      \n",
            " |      where ``ub`` and ``lb`` are arguments and ``x`` has the ``dist.pdf(x)``\n",
            " |      distribution. If the bounds ``lb`` and ``ub`` correspond to the\n",
            " |      support of the distribution, e.g. ``[-inf, inf]`` in the default\n",
            " |      case, then the integral is the unrestricted expectation of ``f(x)``.\n",
            " |      Also, the function ``f(x)`` may be defined such that ``f(x)`` is ``0``\n",
            " |      outside a finite interval in which case the expectation is\n",
            " |      calculated within the finite range ``[lb, ub]``.\n",
            " |      \n",
            " |      Parameters\n",
            " |      ----------\n",
            " |      func : callable, optional\n",
            " |          Function for which integral is calculated. Takes only one argument.\n",
            " |          The default is the identity mapping f(x) = x.\n",
            " |      args : tuple, optional\n",
            " |          Shape parameters of the distribution.\n",
            " |      loc : float, optional\n",
            " |          Location parameter (default=0).\n",
            " |      scale : float, optional\n",
            " |          Scale parameter (default=1).\n",
            " |      lb, ub : scalar, optional\n",
            " |          Lower and upper bound for integration. Default is set to the\n",
            " |          support of the distribution.\n",
            " |      conditional : bool, optional\n",
            " |          If True, the integral is corrected by the conditional probability\n",
            " |          of the integration interval.  The return value is the expectation\n",
            " |          of the function, conditional on being in the given interval.\n",
            " |          Default is False.\n",
            " |      \n",
            " |      Additional keyword arguments are passed to the integration routine.\n",
            " |      \n",
            " |      Returns\n",
            " |      -------\n",
            " |      expect : float\n",
            " |          The calculated expected value.\n",
            " |      \n",
            " |      Notes\n",
            " |      -----\n",
            " |      The integration behavior of this function is inherited from\n",
            " |      `scipy.integrate.quad`. Neither this function nor\n",
            " |      `scipy.integrate.quad` can verify whether the integral exists or is\n",
            " |      finite. For example ``cauchy(0).mean()`` returns ``np.nan`` and\n",
            " |      ``cauchy(0).expect()`` returns ``0.0``.\n",
            " |      \n",
            " |      Examples\n",
            " |      --------\n",
            " |      \n",
            " |      To understand the effect of the bounds of integration consider\n",
            " |      >>> from scipy.stats import expon\n",
            " |      >>> expon(1).expect(lambda x: 1, lb=0.0, ub=2.0)\n",
            " |      0.6321205588285578\n",
            " |      \n",
            " |      This is close to\n",
            " |      \n",
            " |      >>> expon(1).cdf(2.0) - expon(1).cdf(0.0)\n",
            " |      0.6321205588285577\n",
            " |      \n",
            " |      If ``conditional=True``\n",
            " |      \n",
            " |      >>> expon(1).expect(lambda x: 1, lb=0.0, ub=2.0, conditional=True)\n",
            " |      1.0000000000000002\n",
            " |      \n",
            " |      The slight deviation from 1 is due to numerical integration.\n",
            " |  \n",
            " |  fit_loc_scale(self, data, *args)\n",
            " |      Estimate loc and scale parameters from data using 1st and 2nd moments.\n",
            " |      \n",
            " |      Parameters\n",
            " |      ----------\n",
            " |      data : array_like\n",
            " |          Data to fit.\n",
            " |      arg1, arg2, arg3,... : array_like\n",
            " |          The shape parameter(s) for the distribution (see docstring of the\n",
            " |          instance object for more information).\n",
            " |      \n",
            " |      Returns\n",
            " |      -------\n",
            " |      Lhat : float\n",
            " |          Estimated location parameter for the data.\n",
            " |      Shat : float\n",
            " |          Estimated scale parameter for the data.\n",
            " |  \n",
            " |  isf(self, q, *args, **kwds)\n",
            " |      Inverse survival function (inverse of `sf`) at q of the given RV.\n",
            " |      \n",
            " |      Parameters\n",
            " |      ----------\n",
            " |      q : array_like\n",
            " |          upper tail probability\n",
            " |      arg1, arg2, arg3,... : array_like\n",
            " |          The shape parameter(s) for the distribution (see docstring of the\n",
            " |          instance object for more information)\n",
            " |      loc : array_like, optional\n",
            " |          location parameter (default=0)\n",
            " |      scale : array_like, optional\n",
            " |          scale parameter (default=1)\n",
            " |      \n",
            " |      Returns\n",
            " |      -------\n",
            " |      x : ndarray or scalar\n",
            " |          Quantile corresponding to the upper tail probability q.\n",
            " |  \n",
            " |  logcdf(self, x, *args, **kwds)\n",
            " |      Log of the cumulative distribution function at x of the given RV.\n",
            " |      \n",
            " |      Parameters\n",
            " |      ----------\n",
            " |      x : array_like\n",
            " |          quantiles\n",
            " |      arg1, arg2, arg3,... : array_like\n",
            " |          The shape parameter(s) for the distribution (see docstring of the\n",
            " |          instance object for more information)\n",
            " |      loc : array_like, optional\n",
            " |          location parameter (default=0)\n",
            " |      scale : array_like, optional\n",
            " |          scale parameter (default=1)\n",
            " |      \n",
            " |      Returns\n",
            " |      -------\n",
            " |      logcdf : array_like\n",
            " |          Log of the cumulative distribution function evaluated at x\n",
            " |  \n",
            " |  logpdf(self, x, *args, **kwds)\n",
            " |      Log of the probability density function at x of the given RV.\n",
            " |      \n",
            " |      This uses a more numerically accurate calculation if available.\n",
            " |      \n",
            " |      Parameters\n",
            " |      ----------\n",
            " |      x : array_like\n",
            " |          quantiles\n",
            " |      arg1, arg2, arg3,... : array_like\n",
            " |          The shape parameter(s) for the distribution (see docstring of the\n",
            " |          instance object for more information)\n",
            " |      loc : array_like, optional\n",
            " |          location parameter (default=0)\n",
            " |      scale : array_like, optional\n",
            " |          scale parameter (default=1)\n",
            " |      \n",
            " |      Returns\n",
            " |      -------\n",
            " |      logpdf : array_like\n",
            " |          Log of the probability density function evaluated at x\n",
            " |  \n",
            " |  logsf(self, x, *args, **kwds)\n",
            " |      Log of the survival function of the given RV.\n",
            " |      \n",
            " |      Returns the log of the \"survival function,\" defined as (1 - `cdf`),\n",
            " |      evaluated at `x`.\n",
            " |      \n",
            " |      Parameters\n",
            " |      ----------\n",
            " |      x : array_like\n",
            " |          quantiles\n",
            " |      arg1, arg2, arg3,... : array_like\n",
            " |          The shape parameter(s) for the distribution (see docstring of the\n",
            " |          instance object for more information)\n",
            " |      loc : array_like, optional\n",
            " |          location parameter (default=0)\n",
            " |      scale : array_like, optional\n",
            " |          scale parameter (default=1)\n",
            " |      \n",
            " |      Returns\n",
            " |      -------\n",
            " |      logsf : ndarray\n",
            " |          Log of the survival function evaluated at `x`.\n",
            " |  \n",
            " |  nnlf(self, theta, x)\n",
            " |      Return negative loglikelihood function.\n",
            " |      \n",
            " |      Notes\n",
            " |      -----\n",
            " |      This is ``-sum(log pdf(x, theta), axis=0)`` where `theta` are the\n",
            " |      parameters (including loc and scale).\n",
            " |  \n",
            " |  pdf(self, x, *args, **kwds)\n",
            " |      Probability density function at x of the given RV.\n",
            " |      \n",
            " |      Parameters\n",
            " |      ----------\n",
            " |      x : array_like\n",
            " |          quantiles\n",
            " |      arg1, arg2, arg3,... : array_like\n",
            " |          The shape parameter(s) for the distribution (see docstring of the\n",
            " |          instance object for more information)\n",
            " |      loc : array_like, optional\n",
            " |          location parameter (default=0)\n",
            " |      scale : array_like, optional\n",
            " |          scale parameter (default=1)\n",
            " |      \n",
            " |      Returns\n",
            " |      -------\n",
            " |      pdf : ndarray\n",
            " |          Probability density function evaluated at x\n",
            " |  \n",
            " |  ppf(self, q, *args, **kwds)\n",
            " |      Percent point function (inverse of `cdf`) at q of the given RV.\n",
            " |      \n",
            " |      Parameters\n",
            " |      ----------\n",
            " |      q : array_like\n",
            " |          lower tail probability\n",
            " |      arg1, arg2, arg3,... : array_like\n",
            " |          The shape parameter(s) for the distribution (see docstring of the\n",
            " |          instance object for more information)\n",
            " |      loc : array_like, optional\n",
            " |          location parameter (default=0)\n",
            " |      scale : array_like, optional\n",
            " |          scale parameter (default=1)\n",
            " |      \n",
            " |      Returns\n",
            " |      -------\n",
            " |      x : array_like\n",
            " |          quantile corresponding to the lower tail probability q.\n",
            " |  \n",
            " |  sf(self, x, *args, **kwds)\n",
            " |      Survival function (1 - `cdf`) at x of the given RV.\n",
            " |      \n",
            " |      Parameters\n",
            " |      ----------\n",
            " |      x : array_like\n",
            " |          quantiles\n",
            " |      arg1, arg2, arg3,... : array_like\n",
            " |          The shape parameter(s) for the distribution (see docstring of the\n",
            " |          instance object for more information)\n",
            " |      loc : array_like, optional\n",
            " |          location parameter (default=0)\n",
            " |      scale : array_like, optional\n",
            " |          scale parameter (default=1)\n",
            " |      \n",
            " |      Returns\n",
            " |      -------\n",
            " |      sf : array_like\n",
            " |          Survival function evaluated at x\n",
            " |  \n",
            " |  ----------------------------------------------------------------------\n",
            " |  Methods inherited from scipy.stats._distn_infrastructure.rv_generic:\n",
            " |  \n",
            " |  __call__(self, *args, **kwds)\n",
            " |      Freeze the distribution for the given arguments.\n",
            " |      \n",
            " |      Parameters\n",
            " |      ----------\n",
            " |      arg1, arg2, arg3,... : array_like\n",
            " |          The shape parameter(s) for the distribution.  Should include all\n",
            " |          the non-optional arguments, may include ``loc`` and ``scale``.\n",
            " |      \n",
            " |      Returns\n",
            " |      -------\n",
            " |      rv_frozen : rv_frozen instance\n",
            " |          The frozen distribution.\n",
            " |  \n",
            " |  __getstate__(self)\n",
            " |  \n",
            " |  __setstate__(self, state)\n",
            " |  \n",
            " |  entropy(self, *args, **kwds)\n",
            " |      Differential entropy of the RV.\n",
            " |      \n",
            " |      Parameters\n",
            " |      ----------\n",
            " |      arg1, arg2, arg3,... : array_like\n",
            " |          The shape parameter(s) for the distribution (see docstring of the\n",
            " |          instance object for more information).\n",
            " |      loc : array_like, optional\n",
            " |          Location parameter (default=0).\n",
            " |      scale : array_like, optional  (continuous distributions only).\n",
            " |          Scale parameter (default=1).\n",
            " |      \n",
            " |      Notes\n",
            " |      -----\n",
            " |      Entropy is defined base `e`:\n",
            " |      \n",
            " |      >>> drv = rv_discrete(values=((0, 1), (0.5, 0.5)))\n",
            " |      >>> np.allclose(drv.entropy(), np.log(2.0))\n",
            " |      True\n",
            " |  \n",
            " |  freeze(self, *args, **kwds)\n",
            " |      Freeze the distribution for the given arguments.\n",
            " |      \n",
            " |      Parameters\n",
            " |      ----------\n",
            " |      arg1, arg2, arg3,... : array_like\n",
            " |          The shape parameter(s) for the distribution.  Should include all\n",
            " |          the non-optional arguments, may include ``loc`` and ``scale``.\n",
            " |      \n",
            " |      Returns\n",
            " |      -------\n",
            " |      rv_frozen : rv_frozen instance\n",
            " |          The frozen distribution.\n",
            " |  \n",
            " |  interval(self, alpha, *args, **kwds)\n",
            " |      Confidence interval with equal areas around the median.\n",
            " |      \n",
            " |      Parameters\n",
            " |      ----------\n",
            " |      alpha : array_like of float\n",
            " |          Probability that an rv will be drawn from the returned range.\n",
            " |          Each value should be in the range [0, 1].\n",
            " |      arg1, arg2, ... : array_like\n",
            " |          The shape parameter(s) for the distribution (see docstring of the\n",
            " |          instance object for more information).\n",
            " |      loc : array_like, optional\n",
            " |          location parameter, Default is 0.\n",
            " |      scale : array_like, optional\n",
            " |          scale parameter, Default is 1.\n",
            " |      \n",
            " |      Returns\n",
            " |      -------\n",
            " |      a, b : ndarray of float\n",
            " |          end-points of range that contain ``100 * alpha %`` of the rv's\n",
            " |          possible values.\n",
            " |  \n",
            " |  mean(self, *args, **kwds)\n",
            " |      Mean of the distribution.\n",
            " |      \n",
            " |      Parameters\n",
            " |      ----------\n",
            " |      arg1, arg2, arg3,... : array_like\n",
            " |          The shape parameter(s) for the distribution (see docstring of the\n",
            " |          instance object for more information)\n",
            " |      loc : array_like, optional\n",
            " |          location parameter (default=0)\n",
            " |      scale : array_like, optional\n",
            " |          scale parameter (default=1)\n",
            " |      \n",
            " |      Returns\n",
            " |      -------\n",
            " |      mean : float\n",
            " |          the mean of the distribution\n",
            " |  \n",
            " |  median(self, *args, **kwds)\n",
            " |      Median of the distribution.\n",
            " |      \n",
            " |      Parameters\n",
            " |      ----------\n",
            " |      arg1, arg2, arg3,... : array_like\n",
            " |          The shape parameter(s) for the distribution (see docstring of the\n",
            " |          instance object for more information)\n",
            " |      loc : array_like, optional\n",
            " |          Location parameter, Default is 0.\n",
            " |      scale : array_like, optional\n",
            " |          Scale parameter, Default is 1.\n",
            " |      \n",
            " |      Returns\n",
            " |      -------\n",
            " |      median : float\n",
            " |          The median of the distribution.\n",
            " |      \n",
            " |      See Also\n",
            " |      --------\n",
            " |      rv_discrete.ppf\n",
            " |          Inverse of the CDF\n",
            " |  \n",
            " |  moment(self, n, *args, **kwds)\n",
            " |      n-th order non-central moment of distribution.\n",
            " |      \n",
            " |      Parameters\n",
            " |      ----------\n",
            " |      n : int, n >= 1\n",
            " |          Order of moment.\n",
            " |      arg1, arg2, arg3,... : float\n",
            " |          The shape parameter(s) for the distribution (see docstring of the\n",
            " |          instance object for more information).\n",
            " |      loc : array_like, optional\n",
            " |          location parameter (default=0)\n",
            " |      scale : array_like, optional\n",
            " |          scale parameter (default=1)\n",
            " |  \n",
            " |  rvs(self, *args, **kwds)\n",
            " |      Random variates of given type.\n",
            " |      \n",
            " |      Parameters\n",
            " |      ----------\n",
            " |      arg1, arg2, arg3,... : array_like\n",
            " |          The shape parameter(s) for the distribution (see docstring of the\n",
            " |          instance object for more information).\n",
            " |      loc : array_like, optional\n",
            " |          Location parameter (default=0).\n",
            " |      scale : array_like, optional\n",
            " |          Scale parameter (default=1).\n",
            " |      size : int or tuple of ints, optional\n",
            " |          Defining number of random variates (default is 1).\n",
            " |      random_state : None or int or ``np.random.RandomState`` instance, optional\n",
            " |          If int or RandomState, use it for drawing the random variates.\n",
            " |          If None, rely on ``self.random_state``.\n",
            " |          Default is None.\n",
            " |      \n",
            " |      Returns\n",
            " |      -------\n",
            " |      rvs : ndarray or scalar\n",
            " |          Random variates of given `size`.\n",
            " |  \n",
            " |  stats(self, *args, **kwds)\n",
            " |      Some statistics of the given RV.\n",
            " |      \n",
            " |      Parameters\n",
            " |      ----------\n",
            " |      arg1, arg2, arg3,... : array_like\n",
            " |          The shape parameter(s) for the distribution (see docstring of the\n",
            " |          instance object for more information)\n",
            " |      loc : array_like, optional\n",
            " |          location parameter (default=0)\n",
            " |      scale : array_like, optional (continuous RVs only)\n",
            " |          scale parameter (default=1)\n",
            " |      moments : str, optional\n",
            " |          composed of letters ['mvsk'] defining which moments to compute:\n",
            " |          'm' = mean,\n",
            " |          'v' = variance,\n",
            " |          's' = (Fisher's) skew,\n",
            " |          'k' = (Fisher's) kurtosis.\n",
            " |          (default is 'mv')\n",
            " |      \n",
            " |      Returns\n",
            " |      -------\n",
            " |      stats : sequence\n",
            " |          of requested moments.\n",
            " |  \n",
            " |  std(self, *args, **kwds)\n",
            " |      Standard deviation of the distribution.\n",
            " |      \n",
            " |      Parameters\n",
            " |      ----------\n",
            " |      arg1, arg2, arg3,... : array_like\n",
            " |          The shape parameter(s) for the distribution (see docstring of the\n",
            " |          instance object for more information)\n",
            " |      loc : array_like, optional\n",
            " |          location parameter (default=0)\n",
            " |      scale : array_like, optional\n",
            " |          scale parameter (default=1)\n",
            " |      \n",
            " |      Returns\n",
            " |      -------\n",
            " |      std : float\n",
            " |          standard deviation of the distribution\n",
            " |  \n",
            " |  support(self, *args, **kwargs)\n",
            " |      Return the support of the distribution.\n",
            " |      \n",
            " |      Parameters\n",
            " |      ----------\n",
            " |      arg1, arg2, ... : array_like\n",
            " |          The shape parameter(s) for the distribution (see docstring of the\n",
            " |          instance object for more information).\n",
            " |      loc : array_like, optional\n",
            " |          location parameter, Default is 0.\n",
            " |      scale : array_like, optional\n",
            " |          scale parameter, Default is 1.\n",
            " |      Returns\n",
            " |      -------\n",
            " |      a, b : float\n",
            " |          end-points of the distribution's support.\n",
            " |  \n",
            " |  var(self, *args, **kwds)\n",
            " |      Variance of the distribution.\n",
            " |      \n",
            " |      Parameters\n",
            " |      ----------\n",
            " |      arg1, arg2, arg3,... : array_like\n",
            " |          The shape parameter(s) for the distribution (see docstring of the\n",
            " |          instance object for more information)\n",
            " |      loc : array_like, optional\n",
            " |          location parameter (default=0)\n",
            " |      scale : array_like, optional\n",
            " |          scale parameter (default=1)\n",
            " |      \n",
            " |      Returns\n",
            " |      -------\n",
            " |      var : float\n",
            " |          the variance of the distribution\n",
            " |  \n",
            " |  ----------------------------------------------------------------------\n",
            " |  Data descriptors inherited from scipy.stats._distn_infrastructure.rv_generic:\n",
            " |  \n",
            " |  __dict__\n",
            " |      dictionary for instance variables (if defined)\n",
            " |  \n",
            " |  __weakref__\n",
            " |      list of weak references to the object (if defined)\n",
            " |  \n",
            " |  random_state\n",
            " |      Get or set the RandomState object for generating random variates.\n",
            " |      \n",
            " |      This can be either None or an existing RandomState object.\n",
            " |      \n",
            " |      If None (or np.random), use the RandomState singleton used by np.random.\n",
            " |      If already a RandomState instance, use it.\n",
            " |      If an int, use a new RandomState instance seeded with seed.\n",
            "\n"
          ],
          "name": "stdout"
        }
      ]
    }
  ]
}